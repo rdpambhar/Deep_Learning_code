{
 "cells": [
  {
   "cell_type": "markdown",
   "metadata": {},
   "source": [
    "<a href=\"https://colab.research.google.com/github/rdpambhar/Deep_Learning/blob/main/Deep_Learning/ANN/Energy%20Consumption/Energy_generation_prediction_ANN.ipynb\" target=\"_parent\"><img src=\"https://colab.research.google.com/assets/colab-badge.svg\" alt=\"Open In Colab\"/></a>"
   ]
  },
  {
   "cell_type": "markdown",
   "metadata": {
    "id": "3cbb7fRy-eyr"
   },
   "source": [
    "# Artificial Neural Network"
   ]
  },
  {
   "cell_type": "markdown",
   "metadata": {
    "id": "8sNDnxE2-pwE"
   },
   "source": [
    "### Importing the libraries"
   ]
  },
  {
   "cell_type": "code",
   "execution_count": null,
   "metadata": {
    "id": "lxChR1Rk-umf"
   },
   "outputs": [],
   "source": [
    "import numpy as np\n",
    "import pandas as pd\n",
    "import tensorflow as tf"
   ]
  },
  {
   "cell_type": "code",
   "execution_count": null,
   "metadata": {
    "colab": {
     "base_uri": "https://localhost:8080/",
     "height": 35
    },
    "executionInfo": {
     "elapsed": 23,
     "status": "ok",
     "timestamp": 1640109126718,
     "user": {
      "displayName": "Ravi Vaghasiya",
      "photoUrl": "https://lh3.googleusercontent.com/a-/AOh14GjDNBmuvfP0Zl1UXiyJhTXmMIeiuKQ0xltwh-0ZDQ=s64",
      "userId": "16114419505688279817"
     },
     "user_tz": -60
    },
    "id": "uBTqR3nacj0e",
    "outputId": "9cdedd6e-a4ec-449a-ac58-8fb3ce74a0d3"
   },
   "outputs": [
    {
     "data": {
      "application/vnd.google.colaboratory.intrinsic+json": {
       "type": "string"
      },
      "text/plain": [
       "'2.7.0'"
      ]
     },
     "execution_count": 9,
     "metadata": {},
     "output_type": "execute_result"
    }
   ],
   "source": [
    "tf.__version__"
   ]
  },
  {
   "cell_type": "markdown",
   "metadata": {
    "id": "AG3FQEch-yuA"
   },
   "source": [
    "## Part 1 - Data Preprocessing"
   ]
  },
  {
   "cell_type": "markdown",
   "metadata": {
    "id": "-4zq8Mza_D9O"
   },
   "source": [
    "### Importing the dataset"
   ]
  },
  {
   "cell_type": "code",
   "execution_count": null,
   "metadata": {
    "colab": {
     "base_uri": "https://localhost:8080/"
    },
    "executionInfo": {
     "elapsed": 2480,
     "status": "ok",
     "timestamp": 1640111116979,
     "user": {
      "displayName": "Ravi Vaghasiya",
      "photoUrl": "https://lh3.googleusercontent.com/a-/AOh14GjDNBmuvfP0Zl1UXiyJhTXmMIeiuKQ0xltwh-0ZDQ=s64",
      "userId": "16114419505688279817"
     },
     "user_tz": -60
    },
    "id": "o0-8nQ2zFDNq",
    "outputId": "4f0dcf07-b6fe-44e2-a586-c80ecc5cb088"
   },
   "outputs": [
    {
     "data": {
      "text/plain": [
       "array([463.26, 444.37, 488.56, ..., 429.57, 435.74, 453.28])"
      ]
     },
     "execution_count": 59,
     "metadata": {},
     "output_type": "execute_result"
    }
   ],
   "source": [
    "df=pd.read_excel('Folds5x2_pp.xlsx')\n",
    "X=df.iloc[:,:-1].values\n",
    "y=df.iloc[:,-1].values\n",
    "y"
   ]
  },
  {
   "cell_type": "markdown",
   "metadata": {
    "id": "VC6omXel_Up0"
   },
   "source": [
    "### Splitting the dataset into the Training set and Test set"
   ]
  },
  {
   "cell_type": "code",
   "execution_count": null,
   "metadata": {
    "id": "hSQGyy5bFnZm"
   },
   "outputs": [],
   "source": [
    "from sklearn.model_selection import train_test_split\n",
    "X_train,X_test,y_train,y_test=train_test_split(X,y,test_size=0.2,random_state=0)"
   ]
  },
  {
   "cell_type": "code",
   "execution_count": null,
   "metadata": {
    "colab": {
     "base_uri": "https://localhost:8080/"
    },
    "executionInfo": {
     "elapsed": 27,
     "status": "ok",
     "timestamp": 1640109128951,
     "user": {
      "displayName": "Ravi Vaghasiya",
      "photoUrl": "https://lh3.googleusercontent.com/a-/AOh14GjDNBmuvfP0Zl1UXiyJhTXmMIeiuKQ0xltwh-0ZDQ=s64",
      "userId": "16114419505688279817"
     },
     "user_tz": -60
    },
    "id": "RsG5m_BxFr54",
    "outputId": "7055a2dd-9dc5-4d26-917a-40a3cf154d6e"
   },
   "outputs": [
    {
     "name": "stdout",
     "output_type": "stream",
     "text": [
      "7654\n",
      "1914\n"
     ]
    }
   ],
   "source": [
    "print(len(X_train))\n",
    "print(len(X_test))\n"
   ]
  },
  {
   "cell_type": "code",
   "execution_count": null,
   "metadata": {
    "id": "iUevH505F3Ed"
   },
   "outputs": [],
   "source": [
    "# from sklearn.preprocessing import StandardScaler\n",
    "# sc=StandardScaler()\n",
    "# X_test=sc.fit_transform(X_test)\n",
    "# X_train=sc.fit_transform(X_train)"
   ]
  },
  {
   "cell_type": "markdown",
   "metadata": {
    "id": "_mSLlAT9_eyI"
   },
   "source": [
    "## Part 2 - Building the ANN"
   ]
  },
  {
   "cell_type": "markdown",
   "metadata": {
    "id": "CsBULd_f_wLY"
   },
   "source": [
    "### Initializing the ANN"
   ]
  },
  {
   "cell_type": "code",
   "execution_count": null,
   "metadata": {
    "id": "-Qypih9YGkQT"
   },
   "outputs": [],
   "source": [
    "model=tf.keras.models.Sequential()"
   ]
  },
  {
   "cell_type": "markdown",
   "metadata": {
    "id": "iitAFJS_ABUn"
   },
   "source": [
    "### Adding the input layer and the first hidden layer"
   ]
  },
  {
   "cell_type": "code",
   "execution_count": null,
   "metadata": {
    "id": "Sn_Epgf0HJvd"
   },
   "outputs": [],
   "source": [
    "model.add(tf.keras.layers.Dense(units=16,activation='relu'))"
   ]
  },
  {
   "cell_type": "markdown",
   "metadata": {
    "id": "-lb4kK_wAKbs"
   },
   "source": [
    "### Adding the second hidden layer"
   ]
  },
  {
   "cell_type": "code",
   "execution_count": null,
   "metadata": {
    "id": "Fr2B_teDHKLM"
   },
   "outputs": [],
   "source": [
    "model.add(tf.keras.layers.Dense(units=32,activation='relu'))"
   ]
  },
  {
   "cell_type": "markdown",
   "metadata": {
    "id": "jwMOmKb3AdBY"
   },
   "source": [
    "### Adding the output layer"
   ]
  },
  {
   "cell_type": "code",
   "execution_count": null,
   "metadata": {
    "id": "sXuq1e8nHPTb"
   },
   "outputs": [],
   "source": [
    "model.add(tf.keras.layers.Dense(units=1))"
   ]
  },
  {
   "cell_type": "markdown",
   "metadata": {
    "id": "fq7e4fF6A1yy"
   },
   "source": [
    "## Part 3 - Training the ANN"
   ]
  },
  {
   "cell_type": "markdown",
   "metadata": {
    "id": "qDeylAs2An25"
   },
   "source": [
    "### Compiling the ANN"
   ]
  },
  {
   "cell_type": "code",
   "execution_count": null,
   "metadata": {
    "id": "iF7E0sFdHeee"
   },
   "outputs": [],
   "source": [
    "model.compile(optimizer=tf.keras.optimizers.Adam(learning_rate=0.001),loss=tf.keras.losses.MeanSquaredError())"
   ]
  },
  {
   "cell_type": "markdown",
   "metadata": {
    "id": "YjVuiybYOo7r"
   },
   "source": [
    "### Training the ANN model on the Training set"
   ]
  },
  {
   "cell_type": "code",
   "execution_count": null,
   "metadata": {
    "colab": {
     "base_uri": "https://localhost:8080/"
    },
    "executionInfo": {
     "elapsed": 86490,
     "status": "ok",
     "timestamp": 1640111056542,
     "user": {
      "displayName": "Ravi Vaghasiya",
      "photoUrl": "https://lh3.googleusercontent.com/a-/AOh14GjDNBmuvfP0Zl1UXiyJhTXmMIeiuKQ0xltwh-0ZDQ=s64",
      "userId": "16114419505688279817"
     },
     "user_tz": -60
    },
    "id": "_uYHC0aSHhPE",
    "outputId": "bb6de306-57b1-4895-ba45-5c97e61426b1"
   },
   "outputs": [
    {
     "name": "stdout",
     "output_type": "stream",
     "text": [
      "Epoch 1/100\n",
      "240/240 [==============================] - 1s 3ms/step - loss: 19.5612\n",
      "Epoch 2/100\n",
      "240/240 [==============================] - 1s 4ms/step - loss: 19.3448\n",
      "Epoch 3/100\n",
      "240/240 [==============================] - 1s 3ms/step - loss: 19.7395\n",
      "Epoch 4/100\n",
      "240/240 [==============================] - 1s 4ms/step - loss: 19.3464\n",
      "Epoch 5/100\n",
      "240/240 [==============================] - 1s 3ms/step - loss: 19.6540\n",
      "Epoch 6/100\n",
      "240/240 [==============================] - 1s 3ms/step - loss: 19.4004\n",
      "Epoch 7/100\n",
      "240/240 [==============================] - 1s 3ms/step - loss: 19.5529\n",
      "Epoch 8/100\n",
      "240/240 [==============================] - 1s 3ms/step - loss: 19.5841\n",
      "Epoch 9/100\n",
      "240/240 [==============================] - 1s 3ms/step - loss: 19.2341\n",
      "Epoch 10/100\n",
      "240/240 [==============================] - 1s 3ms/step - loss: 19.1392\n",
      "Epoch 11/100\n",
      "240/240 [==============================] - 1s 5ms/step - loss: 19.4414\n",
      "Epoch 12/100\n",
      "240/240 [==============================] - 1s 4ms/step - loss: 19.4566\n",
      "Epoch 13/100\n",
      "240/240 [==============================] - 1s 5ms/step - loss: 19.4149\n",
      "Epoch 14/100\n",
      "240/240 [==============================] - 1s 4ms/step - loss: 19.3420\n",
      "Epoch 15/100\n",
      "240/240 [==============================] - 1s 5ms/step - loss: 19.4773\n",
      "Epoch 16/100\n",
      "240/240 [==============================] - 1s 4ms/step - loss: 19.7248\n",
      "Epoch 17/100\n",
      "240/240 [==============================] - 1s 6ms/step - loss: 19.2916\n",
      "Epoch 18/100\n",
      "240/240 [==============================] - 2s 6ms/step - loss: 19.4095\n",
      "Epoch 19/100\n",
      "240/240 [==============================] - 1s 4ms/step - loss: 19.2366\n",
      "Epoch 20/100\n",
      "240/240 [==============================] - 1s 4ms/step - loss: 19.4477\n",
      "Epoch 21/100\n",
      "240/240 [==============================] - 1s 3ms/step - loss: 19.5772\n",
      "Epoch 22/100\n",
      "240/240 [==============================] - 1s 3ms/step - loss: 19.5329\n",
      "Epoch 23/100\n",
      "240/240 [==============================] - 1s 3ms/step - loss: 19.4395\n",
      "Epoch 24/100\n",
      "240/240 [==============================] - 1s 3ms/step - loss: 19.4597\n",
      "Epoch 25/100\n",
      "240/240 [==============================] - 1s 3ms/step - loss: 19.3975\n",
      "Epoch 26/100\n",
      "240/240 [==============================] - 1s 3ms/step - loss: 19.3017\n",
      "Epoch 27/100\n",
      "240/240 [==============================] - 1s 3ms/step - loss: 19.5217\n",
      "Epoch 28/100\n",
      "240/240 [==============================] - 1s 4ms/step - loss: 19.4739\n",
      "Epoch 29/100\n",
      "240/240 [==============================] - 1s 3ms/step - loss: 19.1989\n",
      "Epoch 30/100\n",
      "240/240 [==============================] - 1s 3ms/step - loss: 19.6418\n",
      "Epoch 31/100\n",
      "240/240 [==============================] - 1s 3ms/step - loss: 19.3943\n",
      "Epoch 32/100\n",
      "240/240 [==============================] - 1s 3ms/step - loss: 19.4939\n",
      "Epoch 33/100\n",
      "240/240 [==============================] - 1s 3ms/step - loss: 19.7219\n",
      "Epoch 34/100\n",
      "240/240 [==============================] - 1s 4ms/step - loss: 19.2667\n",
      "Epoch 35/100\n",
      "240/240 [==============================] - 1s 3ms/step - loss: 19.2085\n",
      "Epoch 36/100\n",
      "240/240 [==============================] - 1s 3ms/step - loss: 19.1071\n",
      "Epoch 37/100\n",
      "240/240 [==============================] - 1s 3ms/step - loss: 19.5233\n",
      "Epoch 38/100\n",
      "240/240 [==============================] - 1s 3ms/step - loss: 19.4726\n",
      "Epoch 39/100\n",
      "240/240 [==============================] - 1s 3ms/step - loss: 19.7058\n",
      "Epoch 40/100\n",
      "240/240 [==============================] - 1s 4ms/step - loss: 19.4605\n",
      "Epoch 41/100\n",
      "240/240 [==============================] - 1s 3ms/step - loss: 19.3931\n",
      "Epoch 42/100\n",
      "240/240 [==============================] - 1s 3ms/step - loss: 19.4004\n",
      "Epoch 43/100\n",
      "240/240 [==============================] - 1s 3ms/step - loss: 19.6087\n",
      "Epoch 44/100\n",
      "240/240 [==============================] - 1s 3ms/step - loss: 19.2441\n",
      "Epoch 45/100\n",
      "240/240 [==============================] - 1s 3ms/step - loss: 19.3760\n",
      "Epoch 46/100\n",
      "240/240 [==============================] - 1s 4ms/step - loss: 19.3547\n",
      "Epoch 47/100\n",
      "240/240 [==============================] - 1s 3ms/step - loss: 19.8037\n",
      "Epoch 48/100\n",
      "240/240 [==============================] - 1s 3ms/step - loss: 19.1885\n",
      "Epoch 49/100\n",
      "240/240 [==============================] - 1s 3ms/step - loss: 19.1827\n",
      "Epoch 50/100\n",
      "240/240 [==============================] - 1s 3ms/step - loss: 19.4466\n",
      "Epoch 51/100\n",
      "240/240 [==============================] - 1s 4ms/step - loss: 19.4029\n",
      "Epoch 52/100\n",
      "240/240 [==============================] - 1s 4ms/step - loss: 19.6000\n",
      "Epoch 53/100\n",
      "240/240 [==============================] - 1s 3ms/step - loss: 19.3050\n",
      "Epoch 54/100\n",
      "240/240 [==============================] - 1s 4ms/step - loss: 19.4129\n",
      "Epoch 55/100\n",
      "240/240 [==============================] - 1s 4ms/step - loss: 19.3829\n",
      "Epoch 56/100\n",
      "240/240 [==============================] - 1s 3ms/step - loss: 19.2425\n",
      "Epoch 57/100\n",
      "240/240 [==============================] - 1s 3ms/step - loss: 19.3868\n",
      "Epoch 58/100\n",
      "240/240 [==============================] - 1s 3ms/step - loss: 19.4111\n",
      "Epoch 59/100\n",
      "240/240 [==============================] - 1s 3ms/step - loss: 19.3608\n",
      "Epoch 60/100\n",
      "240/240 [==============================] - 1s 3ms/step - loss: 19.3025\n",
      "Epoch 61/100\n",
      "240/240 [==============================] - 1s 3ms/step - loss: 19.4028\n",
      "Epoch 62/100\n",
      "240/240 [==============================] - 1s 4ms/step - loss: 19.4128\n",
      "Epoch 63/100\n",
      "240/240 [==============================] - 1s 3ms/step - loss: 19.2334\n",
      "Epoch 64/100\n",
      "240/240 [==============================] - 1s 3ms/step - loss: 19.4415\n",
      "Epoch 65/100\n",
      "240/240 [==============================] - 1s 4ms/step - loss: 19.4275\n",
      "Epoch 66/100\n",
      "240/240 [==============================] - 1s 4ms/step - loss: 19.2491\n",
      "Epoch 67/100\n",
      "240/240 [==============================] - 1s 4ms/step - loss: 19.3433\n",
      "Epoch 68/100\n",
      "240/240 [==============================] - 1s 4ms/step - loss: 19.2540\n",
      "Epoch 69/100\n",
      "240/240 [==============================] - 1s 3ms/step - loss: 19.1952\n",
      "Epoch 70/100\n",
      "240/240 [==============================] - 1s 3ms/step - loss: 19.7300\n",
      "Epoch 71/100\n",
      "240/240 [==============================] - 1s 3ms/step - loss: 19.4195\n",
      "Epoch 72/100\n",
      "240/240 [==============================] - 1s 3ms/step - loss: 19.4604\n",
      "Epoch 73/100\n",
      "240/240 [==============================] - 1s 3ms/step - loss: 19.2481\n",
      "Epoch 74/100\n",
      "240/240 [==============================] - 1s 4ms/step - loss: 19.2361\n",
      "Epoch 75/100\n",
      "240/240 [==============================] - 1s 3ms/step - loss: 19.1391\n",
      "Epoch 76/100\n",
      "240/240 [==============================] - 1s 4ms/step - loss: 19.4272\n",
      "Epoch 77/100\n",
      "240/240 [==============================] - 1s 4ms/step - loss: 19.6316\n",
      "Epoch 78/100\n",
      "240/240 [==============================] - 1s 3ms/step - loss: 19.3663\n",
      "Epoch 79/100\n",
      "240/240 [==============================] - 1s 3ms/step - loss: 19.2537\n",
      "Epoch 80/100\n",
      "240/240 [==============================] - 1s 4ms/step - loss: 19.2999\n",
      "Epoch 81/100\n",
      "240/240 [==============================] - 1s 4ms/step - loss: 19.4546\n",
      "Epoch 82/100\n",
      "240/240 [==============================] - 1s 4ms/step - loss: 19.1256\n",
      "Epoch 83/100\n",
      "240/240 [==============================] - 1s 3ms/step - loss: 19.3356\n",
      "Epoch 84/100\n",
      "240/240 [==============================] - 1s 3ms/step - loss: 19.6473\n",
      "Epoch 85/100\n",
      "240/240 [==============================] - 1s 3ms/step - loss: 19.1173\n",
      "Epoch 86/100\n",
      "240/240 [==============================] - 1s 3ms/step - loss: 19.0722\n",
      "Epoch 87/100\n",
      "240/240 [==============================] - 1s 3ms/step - loss: 19.1279\n",
      "Epoch 88/100\n",
      "240/240 [==============================] - 1s 4ms/step - loss: 19.1961\n",
      "Epoch 89/100\n",
      "240/240 [==============================] - 1s 4ms/step - loss: 19.3255\n",
      "Epoch 90/100\n",
      "240/240 [==============================] - 1s 3ms/step - loss: 19.4562\n",
      "Epoch 91/100\n",
      "240/240 [==============================] - 1s 3ms/step - loss: 19.4267\n",
      "Epoch 92/100\n",
      "240/240 [==============================] - 1s 3ms/step - loss: 19.2477\n",
      "Epoch 93/100\n",
      "240/240 [==============================] - 1s 4ms/step - loss: 19.2381\n",
      "Epoch 94/100\n",
      "240/240 [==============================] - 1s 4ms/step - loss: 19.3670\n",
      "Epoch 95/100\n",
      "240/240 [==============================] - 1s 4ms/step - loss: 19.4829\n",
      "Epoch 96/100\n",
      "240/240 [==============================] - 1s 3ms/step - loss: 19.1682\n",
      "Epoch 97/100\n",
      "240/240 [==============================] - 1s 3ms/step - loss: 19.1934\n",
      "Epoch 98/100\n",
      "240/240 [==============================] - 1s 3ms/step - loss: 19.2229\n",
      "Epoch 99/100\n",
      "240/240 [==============================] - 1s 3ms/step - loss: 19.2925\n",
      "Epoch 100/100\n",
      "240/240 [==============================] - 1s 3ms/step - loss: 19.4284\n"
     ]
    },
    {
     "data": {
      "text/plain": [
       "<keras.callbacks.History at 0x7fe31afcd350>"
      ]
     },
     "execution_count": 55,
     "metadata": {},
     "output_type": "execute_result"
    }
   ],
   "source": [
    "model.fit(x=X_train,y=y_train,batch_size=32,epochs=100)"
   ]
  },
  {
   "cell_type": "markdown",
   "metadata": {
    "id": "0H0zKKNEBLD5"
   },
   "source": [
    "### Predicting the results of the Test set"
   ]
  },
  {
   "cell_type": "code",
   "execution_count": null,
   "metadata": {
    "colab": {
     "base_uri": "https://localhost:8080/"
    },
    "executionInfo": {
     "elapsed": 360,
     "status": "ok",
     "timestamp": 1640110514699,
     "user": {
      "displayName": "Ravi Vaghasiya",
      "photoUrl": "https://lh3.googleusercontent.com/a-/AOh14GjDNBmuvfP0Zl1UXiyJhTXmMIeiuKQ0xltwh-0ZDQ=s64",
      "userId": "16114419505688279817"
     },
     "user_tz": -60
    },
    "id": "gMFsQIDGHiFM",
    "outputId": "bc1057cb-66f1-4859-a965-847012bed9dd"
   },
   "outputs": [
    {
     "name": "stdout",
     "output_type": "stream",
     "text": [
      "[[432.07 431.23]\n",
      " [457.36 460.01]\n",
      " [461.8  461.14]\n",
      " ...\n",
      " [468.82 473.26]\n",
      " [439.96 438.  ]\n",
      " [460.57 463.28]]\n"
     ]
    }
   ],
   "source": [
    "y_predict=model.predict(X_test)\n",
    "np.set_printoptions(precision=2)\n",
    "print(np.concatenate((y_predict.reshape(len(y_predict),1),y_test.reshape(len(y_test),1)),1))\n",
    "# print(y_test-y_predict)"
   ]
  },
  {
   "cell_type": "code",
   "execution_count": null,
   "metadata": {
    "colab": {
     "base_uri": "https://localhost:8080/"
    },
    "executionInfo": {
     "elapsed": 335,
     "status": "ok",
     "timestamp": 1640111296574,
     "user": {
      "displayName": "Ravi Vaghasiya",
      "photoUrl": "https://lh3.googleusercontent.com/a-/AOh14GjDNBmuvfP0Zl1UXiyJhTXmMIeiuKQ0xltwh-0ZDQ=s64",
      "userId": "16114419505688279817"
     },
     "user_tz": -60
    },
    "id": "T91Dd5GVOGPH",
    "outputId": "7e76863d-ad00-49ab-df7d-15e5ea89c731"
   },
   "outputs": [
    {
     "data": {
      "text/plain": [
       "array([[35479.36]], dtype=float32)"
      ]
     },
     "execution_count": 65,
     "metadata": {},
     "output_type": "execute_result"
    }
   ],
   "source": [
    "model.predict([[8.34,40.77,1010.84,90.01]])"
   ]
  },
  {
   "cell_type": "code",
   "execution_count": null,
   "metadata": {
    "id": "NFr9bhwgQACf"
   },
   "outputs": [],
   "source": []
  }
 ],
 "metadata": {
  "accelerator": "GPU",
  "colab": {
   "collapsed_sections": [],
   "name": "Energy_generation_prediction_ANN.ipynb",
   "provenance": []
  },
  "kernelspec": {
   "display_name": "Python 3 (ipykernel)",
   "language": "python",
   "name": "python3"
  },
  "language_info": {
   "codemirror_mode": {
    "name": "ipython",
    "version": 3
   },
   "file_extension": ".py",
   "mimetype": "text/x-python",
   "name": "python",
   "nbconvert_exporter": "python",
   "pygments_lexer": "ipython3",
   "version": "3.9.7"
  }
 },
 "nbformat": 4,
 "nbformat_minor": 1
}
